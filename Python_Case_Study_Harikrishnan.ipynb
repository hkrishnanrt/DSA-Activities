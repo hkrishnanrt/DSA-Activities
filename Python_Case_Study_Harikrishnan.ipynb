{
  "nbformat": 4,
  "nbformat_minor": 0,
  "metadata": {
    "colab": {
      "provenance": [],
      "include_colab_link": true
    },
    "kernelspec": {
      "name": "python3",
      "display_name": "Python 3"
    },
    "language_info": {
      "name": "python"
    }
  },
  "cells": [
    {
      "cell_type": "markdown",
      "metadata": {
        "id": "view-in-github",
        "colab_type": "text"
      },
      "source": [
        "<a href=\"https://colab.research.google.com/github/hkrishnanrt/DSA-Activities/blob/main/Python_Case_Study_Harikrishnan.ipynb\" target=\"_parent\"><img src=\"https://colab.research.google.com/assets/colab-badge.svg\" alt=\"Open In Colab\"/></a>"
      ]
    },
    {
      "cell_type": "markdown",
      "source": [
        "# Answer the following questions using only builtin Python datatypes and functions. Do not use Numpy or Scipy (i.e. No library imports allowed)"
      ],
      "metadata": {
        "id": "zVV_KMSIUG-A"
      }
    },
    {
      "cell_type": "markdown",
      "source": [
        "# Q1. Write a function that return the maximum and minimun of a given list of numbers"
      ],
      "metadata": {
        "id": "uZnK7VgWV5SI"
      }
    },
    {
      "cell_type": "code",
      "source": [
        "def min_max(num):\n",
        " minimum=num[0]\n",
        " maximum=num[0]\n",
        "\n",
        " for i in num:\n",
        "    if i<minimum:\n",
        "      minimum=i\n",
        "    if i>maximum:\n",
        "      maximum=i\n",
        " return minimum,maximum\n",
        "\n",
        "nums = [12, 5, 8, -2, 19, 7]\n",
        "mn, mx =min_max(nums)\n",
        "print(f\"Minimum: {mn}, Maximum: {mx}\")\n"
      ],
      "metadata": {
        "id": "vuAbJQcOWAM7",
        "colab": {
          "base_uri": "https://localhost:8080/"
        },
        "outputId": "68b3ec96-01aa-422f-9dd5-e1d6c743c40e"
      },
      "execution_count": 21,
      "outputs": [
        {
          "output_type": "stream",
          "name": "stdout",
          "text": [
            "Minimum: -2, Maximum: 19\n"
          ]
        }
      ]
    },
    {
      "cell_type": "markdown",
      "source": [
        "## Q2. Write function that returns mean value of a list of numbers"
      ],
      "metadata": {
        "id": "Y5_v5a8_U1O-"
      }
    },
    {
      "cell_type": "code",
      "source": [
        "def mean(num):\n",
        " sum=0\n",
        " n=len(num)\n",
        " for i in data:\n",
        "  sum=sum + i\n",
        " return sum/n\n",
        "\n",
        "data=[1,5,8,2,7,3,8,10]\n",
        "print(f\"Mean : {mean(data)}\")"
      ],
      "metadata": {
        "id": "RajjEyacU7Sc",
        "colab": {
          "base_uri": "https://localhost:8080/"
        },
        "outputId": "196796b8-559e-46fa-ebfa-13c5558268c2"
      },
      "execution_count": 15,
      "outputs": [
        {
          "output_type": "stream",
          "name": "stdout",
          "text": [
            "Mean : 5.5\n"
          ]
        }
      ]
    },
    {
      "cell_type": "markdown",
      "source": [
        "# Q3. Write a function that returns the median value of a list of numbers"
      ],
      "metadata": {
        "id": "OpeRxoEoVTIP"
      }
    },
    {
      "cell_type": "code",
      "source": [
        "def Median(num):\n",
        " n = len(num)\n",
        " for i in range(n):\n",
        "  for j in range(0, n-i-1):\n",
        "    if num[j] > num[j+1]:\n",
        "      num[j], num[j+1] = num[j+1], num[j]\n",
        " print(num)\n",
        "\n",
        " if n%2==0:\n",
        "  Median=(num[(n)//2] + num[((n)//2)+1])/2\n",
        " else:\n",
        "  Median=(num[(n)//2])\n",
        " return Median\n",
        "\n",
        "my_list=[3,4,5,6,7,8]\n",
        "print(\"Median : \",Median(my_list))"
      ],
      "metadata": {
        "id": "u1CUy0UOVaQi",
        "colab": {
          "base_uri": "https://localhost:8080/"
        },
        "outputId": "444c1af8-db30-4659-b1d5-cebf3b7ec4c9"
      },
      "execution_count": 2,
      "outputs": [
        {
          "output_type": "stream",
          "name": "stdout",
          "text": [
            "[3, 4, 5, 6, 7, 8]\n",
            "Median :  6.5\n"
          ]
        }
      ]
    },
    {
      "cell_type": "markdown",
      "source": [
        "## Q4. Write a function to return the mod of a list of numbers, if no mod exists, it should return None. If more than one mod exist, return the mod values as list"
      ],
      "metadata": {
        "id": "2EMOG7AZSqVn"
      }
    },
    {
      "cell_type": "code",
      "execution_count": 16,
      "metadata": {
        "id": "qnMm2dhhSk3-",
        "colab": {
          "base_uri": "https://localhost:8080/"
        },
        "outputId": "f8c8f0a4-a4f4-4ff5-a24f-0bf6125bee22"
      },
      "outputs": [
        {
          "output_type": "stream",
          "name": "stdout",
          "text": [
            "Mode: 2\n"
          ]
        }
      ],
      "source": [
        "def mode(num):\n",
        "    max_count = 0\n",
        "    modes = []\n",
        "\n",
        "    for i in num:\n",
        "        count = 0\n",
        "        for val in num:\n",
        "            if val == i:\n",
        "                count += 1\n",
        "        if count > max_count:\n",
        "            max_count = count\n",
        "\n",
        "    for i in num:\n",
        "        count = 0\n",
        "        for val in num:\n",
        "            if val == i:\n",
        "                count += 1\n",
        "        if count == max_count and i not in modes:\n",
        "            modes.append(i)\n",
        "\n",
        "    if max_count == 1:\n",
        "        return None\n",
        "    elif len(modes) == 1:\n",
        "        return modes[0]\n",
        "    else:\n",
        "        return modes\n",
        "\n",
        "list1 = [1, 4,2, 6, 7, 3, 2]\n",
        "print(f\"Mode: {mode(list1)}\")\n",
        "\n"
      ]
    },
    {
      "cell_type": "markdown",
      "source": [
        "## Q5. Write function to compute a given percentile value (e.g. 90th percentile) of a list of numbers"
      ],
      "metadata": {
        "id": "LcqWwqtgTCiL"
      }
    },
    {
      "cell_type": "code",
      "source": [
        "def percentile(data,percent):\n",
        " n = len(data)\n",
        " for i in range(n):\n",
        "  for j in range(0, n-i-1):\n",
        "    if data[j] > data[j+1]:\n",
        "      data[j], data[j+1] = data[j+1], data[j]\n",
        "  k = (n - 1) * (percent / 100)\n",
        "  f = int(k)\n",
        "  c = f + 1\n",
        "\n",
        "  if c >= n:\n",
        "    return data[f]\n",
        "  return data[f] + (data[c] - data[f]) * (k - f)\n",
        "\n",
        "nums = [15, 20, 35, 40, 50]\n",
        "print(\"90th Percentile:\", percentile(nums, 90))"
      ],
      "metadata": {
        "id": "Sn307h0TTb2b",
        "colab": {
          "base_uri": "https://localhost:8080/"
        },
        "outputId": "96703d71-e93f-47c8-b667-6cb2ca5741dd"
      },
      "execution_count": 4,
      "outputs": [
        {
          "output_type": "stream",
          "name": "stdout",
          "text": [
            "90th Percentile: 46.0\n"
          ]
        }
      ]
    },
    {
      "cell_type": "markdown",
      "source": [
        "# Q6. Write a function that returns the lower bound of a list of numbers"
      ],
      "metadata": {
        "id": "N-TYHkDcWOfS"
      }
    },
    {
      "cell_type": "code",
      "source": [
        "def lower_bound(data):\n",
        "  n = len(data)\n",
        "  for i in range(n):\n",
        "   for j in range(0, n-i-1):\n",
        "    if data[j] > data[j+1]:\n",
        "      data[j], data[j+1] = data[j+1], data[j]\n",
        "\n",
        "    def percentile(data, percent):\n",
        "        k = (len(data) - 1) * (percent / 100)\n",
        "        f = int(k)\n",
        "        c = f + 1\n",
        "        if c >= len(data):\n",
        "            return data[f]\n",
        "        return data[f] + (data[c] - data[f]) * (k - f)\n",
        "\n",
        "\n",
        "    Q1 = percentile(data, 25)\n",
        "    Q3 = percentile(data, 75)\n",
        "    IQR = Q3 - Q1\n",
        "\n",
        "\n",
        "    lower = Q1 - 1.5 * IQR\n",
        "    return lower\n",
        "\n",
        "\n",
        "nums = [2, 4, 6, 8, 10, 12, 14]\n",
        "print(\"Lower Bound:\", lower_bound(nums))\n"
      ],
      "metadata": {
        "id": "Y-RKPdKuW5nx",
        "colab": {
          "base_uri": "https://localhost:8080/"
        },
        "outputId": "efb689db-89e9-4efb-d1f1-dbe7fff60449"
      },
      "execution_count": 14,
      "outputs": [
        {
          "output_type": "stream",
          "name": "stdout",
          "text": [
            "Lower Bound: -4.0\n"
          ]
        }
      ]
    },
    {
      "cell_type": "markdown",
      "source": [
        "## Q7. Write function to return any outliers from a given list of numbers, if no outliers present it should return None"
      ],
      "metadata": {
        "id": "5aHfaI_jThpX"
      }
    },
    {
      "cell_type": "code",
      "source": [
        "def outliers(data):\n",
        "  n = len(data)\n",
        "  for i in range(n):\n",
        "   for j in range(0, n-i-1):\n",
        "    if data[j] > data[j+1]:\n",
        "      data[j], data[j+1] = data[j+1], data[j]\n",
        "\n",
        "    def percentile(data, percent):\n",
        "        k = (len(data) - 1) * (percent / 100)\n",
        "        f = int(k)\n",
        "        c = f + 1\n",
        "        if c >= len(data):\n",
        "            return data[f]\n",
        "        return data[f] + (data[c] - data[f]) * (k - f)\n",
        "\n",
        "\n",
        "    Q1 = percentile(data, 25)\n",
        "    Q3 = percentile(data, 75)\n",
        "    IQR = Q3 - Q1\n",
        "\n",
        "\n",
        "    lower_bound = Q1 - 1.5 * IQR\n",
        "    upper_bound = Q3 + 1.5 * IQR\n",
        "\n",
        "\n",
        "    outliers = [x for x in data if x < lower_bound or x > upper_bound]\n",
        "\n",
        "    return outliers if outliers else None\n",
        "\n",
        "\n",
        "nums = [10, 12, 14, 15, 18, 19, 35, 21, 100]\n",
        "print(\"Outliers:\", outliers(nums))"
      ],
      "metadata": {
        "id": "gG6-qzT7T0Si",
        "colab": {
          "base_uri": "https://localhost:8080/"
        },
        "outputId": "f09562e7-311e-4c26-a007-88bef98159a4"
      },
      "execution_count": 18,
      "outputs": [
        {
          "output_type": "stream",
          "name": "stdout",
          "text": [
            "Outliers: [100]\n"
          ]
        }
      ]
    },
    {
      "cell_type": "markdown",
      "source": [
        "##Q8. Write a function to return standard deviation of a list of numbers"
      ],
      "metadata": {
        "id": "jI9t-tcDT5EK"
      }
    },
    {
      "cell_type": "code",
      "source": [
        "def std(num):\n",
        "  sum=0\n",
        "  n=len(num)\n",
        "  for i in num:\n",
        "    sum=sum + i\n",
        "  mean=sum/n\n",
        "\n",
        "  var=0\n",
        "  for i in num:\n",
        "    var+=((i-mean)**2)\n",
        "  variance=var/n\n",
        "\n",
        "  std=(variance**(1/2))\n",
        "  return std\n",
        "\n",
        "list2=[2,4,6,8,10]\n",
        "print(f\"Standard deviation : {std(list2):.3f}\")\n",
        "\n",
        "\n"
      ],
      "metadata": {
        "id": "MMU_cMlLUFxJ",
        "colab": {
          "base_uri": "https://localhost:8080/"
        },
        "outputId": "1360041c-0a52-43a0-9076-712acada8e1a"
      },
      "execution_count": 27,
      "outputs": [
        {
          "output_type": "stream",
          "name": "stdout",
          "text": [
            "Standard deviation : 2.828\n"
          ]
        }
      ]
    },
    {
      "cell_type": "markdown",
      "source": [
        "## Q9. Write function to compute and return Z-score values of a list of numbers"
      ],
      "metadata": {
        "id": "LufmQDJPURkM"
      }
    },
    {
      "cell_type": "code",
      "source": [
        "def Z_score(num):\n",
        "  sum=0\n",
        "  n=len(num)\n",
        "  for i in num:\n",
        "    sum=sum + i\n",
        "  mean=sum/n\n",
        "\n",
        "  var=0\n",
        "  for i in num:\n",
        "    var+=((i-mean)**2)\n",
        "  variance=var/n\n",
        "\n",
        "  std=(variance**(1/2))\n",
        "\n",
        "  Z_score_list=[]\n",
        "  for i in num:\n",
        "    Z_score_list.append((i-mean)/std)\n",
        "  return Z_score_list\n",
        "list2=[2,4,6,7,8]\n",
        "print(\"Z SCORE:\",Z_score(list2))"
      ],
      "metadata": {
        "id": "ml2qpSpFUYxV",
        "colab": {
          "base_uri": "https://localhost:8080/"
        },
        "outputId": "3b80db97-5c5d-4daf-86ae-f02127fbbb30"
      },
      "execution_count": 1,
      "outputs": [
        {
          "output_type": "stream",
          "name": "stdout",
          "text": [
            "Z SCORE: [-1.5784103745049411, -0.6499336836196817, 0.2785430072655776, 0.7427813527082073, 1.207019698150837]\n"
          ]
        }
      ]
    },
    {
      "cell_type": "markdown",
      "source": [
        "## Q10. Write a function to compute and return the Pearson correlation coefficient value of two list of numbers"
      ],
      "metadata": {
        "id": "YQSNHIfxUb6s"
      }
    },
    {
      "cell_type": "code",
      "source": [
        "def pearson_correlation(x, y):\n",
        "    n = len(x)\n",
        "\n",
        "\n",
        "    mean_x = sum(x) / n\n",
        "    mean_y = sum(y) / n\n",
        "\n",
        "\n",
        "    numerator = sum((x[i] - mean_x) * (y[i] - mean_y) for i in range(n))\n",
        "    denominator_x = (sum((x[i] - mean_x) ** 2 for i in range(n))) ** 0.5\n",
        "    denominator_y = (sum((y[i] - mean_y) ** 2 for i in range(n))) ** 0.5\n",
        "\n",
        "\n",
        "    if denominator_x == 0 or denominator_y == 0:\n",
        "        return 0\n",
        "\n",
        "    return numerator / (denominator_x * denominator_y)\n",
        "\n",
        "\n",
        "\n",
        "x_values = [1, 2, 3, 4, 5]\n",
        "y_values = [2, 4, 6, 8, 10]\n",
        "\n",
        "print(\"Pearson Correlation Coefficient:\", pearson_correlation(x_values, y_values))\n"
      ],
      "metadata": {
        "id": "1YGqr3T6Uk6H",
        "colab": {
          "base_uri": "https://localhost:8080/"
        },
        "outputId": "52b8da59-4bb4-4d36-b36c-d76b039d21d8"
      },
      "execution_count": 19,
      "outputs": [
        {
          "output_type": "stream",
          "name": "stdout",
          "text": [
            "Pearson Correlation Coefficient: 0.9999999999999998\n"
          ]
        }
      ]
    }
  ]
}